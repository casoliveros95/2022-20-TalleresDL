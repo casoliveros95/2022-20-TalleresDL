{
  "nbformat": 4,
  "nbformat_minor": 0,
  "metadata": {
    "colab": {
      "provenance": [],
      "authorship_tag": "ABX9TyMygy38Ouj10Ul6W6gw2uzP",
      "include_colab_link": true
    },
    "kernelspec": {
      "name": "python3",
      "display_name": "Python 3"
    },
    "language_info": {
      "name": "python"
    }
  },
  "cells": [
    {
      "cell_type": "markdown",
      "metadata": {
        "id": "view-in-github",
        "colab_type": "text"
      },
      "source": [
        "<a href=\"https://colab.research.google.com/github/Camilojaravila/202220_MINE-4210_ANALISIS_CON_DEEP_LEARNING/blob/main/Laboratorio%202/Taller.ipynb\" target=\"_parent\"><img src=\"https://colab.research.google.com/assets/colab-badge.svg\" alt=\"Open In Colab\"/></a>"
      ]
    },
    {
      "cell_type": "markdown",
      "source": [
        "![image](https://docs.google.com/uc?export=download&id=1NUy1Q-abpoV9XYK9qT9t8Mdhj3ZVlveO)"
      ],
      "metadata": {
        "id": "znKNaJnn_ipc"
      }
    },
    {
      "cell_type": "markdown",
      "metadata": {
        "id": "NkCYoS7vchGU"
      },
      "source": [
        "\n",
        "# **Taller 2**\n",
        "\n",
        "Uno de los campos de aplicación de las técnicas de deep learning es la medicina, donde se han desarrollado sistemas que ayudan a los expertos en el diagnóstico y que facilitan la detección temprana de algunas patologías. Este es el caso de algunas enfermedades del ojo, las cuales pueden ser identificadas mediante un análisis automatizado de imágenes de la retina del paciente. De esta forma, se puede apoyar la toma de decisiones oportunas para prevenir la ceguera y otras complicaciones.\n",
        "\n",
        "\n",
        "En este sentido, se quiere llevar a cabo un estudio, tomando como base imágenes de retina de retinopatía diabética, de cataratas y de glaucoma, para construir un modelo que apoye en la identificación de pacientes con riesgo de sufrir estas enfermedades.\n",
        "\n",
        "Para la construcción del modelo, es importante que realicen su propia Red Neuronal para la clasificación de estas enfermedades. En donde es importante explorar tanto sus propias redes, como Redes Pre-entrenadas. Realice una tabla comparativa entre la Red Construida y por lo menos dos Redes Pre-entrenadas con la métrica seleccionada.\n",
        "\n",
        "Datos: https://www.kaggle.com/datasets/gunavenkatdoddi/preprocessed-eye-diseases-fundus-images"
      ]
    },
    {
      "cell_type": "code",
      "source": [],
      "metadata": {
        "id": "LZCJwxy8Pbjd"
      },
      "execution_count": null,
      "outputs": []
    }
  ]
}