{
  "nbformat": 4,
  "nbformat_minor": 0,
  "metadata": {
    "colab": {
      "provenance": [],
      "authorship_tag": "ABX9TyNu9DCKT8sK29g7tDNy6LyX",
      "include_colab_link": true
    },
    "kernelspec": {
      "name": "python3",
      "display_name": "Python 3"
    },
    "language_info": {
      "name": "python"
    }
  },
  "cells": [
    {
      "cell_type": "markdown",
      "metadata": {
        "id": "view-in-github",
        "colab_type": "text"
      },
      "source": [
        "<a href=\"https://colab.research.google.com/github/Camilojaravila/202220_MINE-4210_ANALISIS_CON_DEEP_LEARNING/blob/main/Laboratorio%201/Taller.ipynb\" target=\"_parent\"><img src=\"https://colab.research.google.com/assets/colab-badge.svg\" alt=\"Open In Colab\"/></a>"
      ]
    },
    {
      "cell_type": "markdown",
      "source": [
        "![image](https://docs.google.com/uc?export=download&id=1NUy1Q-abpoV9XYK9qT9t8Mdhj3ZVlveO)"
      ],
      "metadata": {
        "id": "znKNaJnn_ipc"
      }
    },
    {
      "cell_type": "markdown",
      "metadata": {
        "id": "NkCYoS7vchGU"
      },
      "source": [
        "\n",
        "# **Taller 1**\n",
        "\n",
        "El lenguaje de señas ha sido una herramienta que por más de 300 años ha ayudado a millones de personas a comunicarse de una manera eficaz. Actualmente, el 5% de la población mundial sufre de pérdida auditiva y la OMS estima que en el 2050, 1 de cada 10 habitantes padecerá de alguna enfermedad relacionada a problemas auditivos.\n",
        "\n",
        "Ante la nueva ola de máquinas relacionadas al campo de la medicina, un conjunto de médicos le ha pedido realizar un modelo que les permita interpretar de manera eficiente el lenguaje de señas a través de imágenes. Esto con el fin de poder atender a sus pacientes con limitaciones de comunicación y poderles brindar un mejor servicio. Para esto, los médicos le han proporcionado un conjunto de datos donde capturaron el \"gesto\" de cada una de las letras del abecedario y se encargaron de etiquetarlas, excluyendo las letras como la J y la Z debido a causa del movimiento.\n",
        "\n",
        "Para la construcción del modelo utilice los tres esquemas que se describen a continuación y compare los resultados:\n",
        "\n",
        "1. Entrenamiento de un perceptrón multicapa.\n",
        "\n",
        "2. Entrenamiento de un undercompleted autoencoder para realizar una reducción de la dimensionalidad. Sobre el nuevo conjunto de características construya el modelo de clasificación con un perceptrón multicapa.\n",
        "\n",
        "3. Entrenamiento de un denoising autoendoder para preentrenar una red profunda. Reuse las primeras capas de este autoencoder para construir un perceptron multicapa (con solo el 10% de los datos).\n",
        "\n",
        "Para los puntos b) y c) compruebe, y muestre con ejemplos, que las imágenes están bien reconstruidas.\n",
        "\n",
        "Datos: https://www.kaggle.com/datamunge/sign-language-mnist"
      ]
    },
    {
      "cell_type": "code",
      "source": [],
      "metadata": {
        "id": "LZCJwxy8Pbjd"
      },
      "execution_count": null,
      "outputs": []
    }
  ]
}